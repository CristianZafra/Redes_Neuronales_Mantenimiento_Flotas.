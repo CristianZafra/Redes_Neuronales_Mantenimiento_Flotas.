{
 "cells": [
  {
   "cell_type": "markdown",
   "id": "a082f9a9",
   "metadata": {},
   "source": [
    "# 🚛 Mantenimiento Predictivo de Flotas con Redes Neuronales\n",
    "Este cuaderno aplica un modelo de red neuronal artificial para predecir si un vehículo requiere mantenimiento próximo, basado en variables operativas como kilometraje, horas de motor, temperatura, vibración, entre otros."
   ]
  },
  {
   "cell_type": "markdown",
   "id": "957396db",
   "metadata": {},
   "source": [
    "## 📚 Paso 1: Importar librerías necesarias"
   ]
  },
  {
   "cell_type": "code",
   "execution_count": null,
   "id": "af68fae7",
   "metadata": {},
   "outputs": [],
   "source": [
    "import pandas as pd\n",
    "import numpy as np\n",
    "from sklearn.model_selection import train_test_split\n",
    "from sklearn.preprocessing import StandardScaler\n",
    "from sklearn.metrics import classification_report, confusion_matrix\n",
    "import tensorflow as tf\n",
    "import matplotlib.pyplot as plt\n",
    "import seaborn as sns"
   ]
  },
  {
   "cell_type": "markdown",
   "id": "45a05981",
   "metadata": {},
   "source": [
    "## 📂 Paso 2: Cargar archivo CSV con datos de flota"
   ]
  },
  {
   "cell_type": "code",
   "execution_count": null,
   "id": "4e262652",
   "metadata": {},
   "outputs": [],
   "source": [
    "# Asistente para cargar archivo CSV desde el equipo\n",
    "from google.colab import files\n",
    "import io\n",
    "\n",
    "uploaded = files.upload()\n",
    "for nombre in uploaded.keys():\n",
    "    df = pd.read_csv(io.BytesIO(uploaded[nombre]))\n",
    "    break\n",
    "df.head()"
   ]
  },
  {
   "cell_type": "markdown",
   "id": "8e8ec74d",
   "metadata": {},
   "source": [
    "## 🔍 Paso 3: Preprocesamiento de los datos"
   ]
  },
  {
   "cell_type": "code",
   "execution_count": null,
   "id": "eaa3a577",
   "metadata": {},
   "outputs": [],
   "source": [
    "# Separar características y etiqueta\n",
    "X = df.drop(columns=['Vehiculo_ID', 'Falla_proxima'])\n",
    "y = df['Falla_proxima']\n",
    "\n",
    "# Escalar características\n",
    "scaler = StandardScaler()\n",
    "X_scaled = scaler.fit_transform(X)\n",
    "\n",
    "# Separar datos de entrenamiento y prueba\n",
    "X_train, X_test, y_train, y_test = train_test_split(X_scaled, y, test_size=0.2, random_state=42)"
   ]
  },
  {
   "cell_type": "markdown",
   "id": "4a6a9d19",
   "metadata": {},
   "source": [
    "## 🧠 Paso 4: Construcción del modelo de red neuronal"
   ]
  },
  {
   "cell_type": "code",
   "execution_count": null,
   "id": "8ddd9579",
   "metadata": {},
   "outputs": [],
   "source": [
    "# Definir modelo secuencial simple\n",
    "model = tf.keras.Sequential([\n",
    "    tf.keras.layers.Dense(16, activation='relu', input_shape=(X_train.shape[1],)),\n",
    "    tf.keras.layers.Dense(8, activation='relu'),\n",
    "    tf.keras.layers.Dense(1, activation='sigmoid')\n",
    "])\n",
    "\n",
    "# Compilar modelo\n",
    "model.compile(optimizer='adam', loss='binary_crossentropy', metrics=['accuracy'])\n",
    "\n",
    "# Entrenar modelo\n",
    "history = model.fit(X_train, y_train, epochs=50, validation_split=0.2, verbose=0)"
   ]
  },
  {
   "cell_type": "markdown",
   "id": "e9a3fd41",
   "metadata": {},
   "source": [
    "## 📈 Paso 5: Evaluar desempeño del modelo"
   ]
  },
  {
   "cell_type": "code",
   "execution_count": null,
   "id": "d2614a0c",
   "metadata": {},
   "outputs": [],
   "source": [
    "# Curva de precisión durante el entrenamiento\n",
    "plt.plot(history.history['accuracy'], label='Entrenamiento')\n",
    "plt.plot(history.history['val_accuracy'], label='Validación')\n",
    "plt.title('Precisión del modelo')\n",
    "plt.xlabel('Épocas')\n",
    "plt.ylabel('Precisión')\n",
    "plt.legend()\n",
    "plt.grid(True)\n",
    "plt.show()"
   ]
  },
  {
   "cell_type": "code",
   "execution_count": null,
   "id": "8b2cd74e",
   "metadata": {},
   "outputs": [],
   "source": [
    "# Predicciones y métricas\n",
    "y_pred = (model.predict(X_test) > 0.5).astype(int)\n",
    "print(classification_report(y_test, y_pred))\n",
    "\n",
    "# Matriz de confusión\n",
    "sns.heatmap(confusion_matrix(y_test, y_pred), annot=True, fmt='d', cmap='Blues')\n",
    "plt.title('Matriz de Confusión')\n",
    "plt.xlabel('Predicho')\n",
    "plt.ylabel('Real')\n",
    "plt.show()"
   ]
  }
 ],
 "metadata": {},
 "nbformat": 4,
 "nbformat_minor": 5
}
